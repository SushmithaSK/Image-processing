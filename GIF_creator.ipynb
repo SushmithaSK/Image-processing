{
  "nbformat": 4,
  "nbformat_minor": 0,
  "metadata": {
    "colab": {
      "provenance": [],
      "authorship_tag": "ABX9TyPhWUNdx3bSVKDYAXECmYvo"
    },
    "kernelspec": {
      "name": "python3",
      "display_name": "Python 3"
    },
    "language_info": {
      "name": "python"
    }
  },
  "cells": [
    {
      "cell_type": "code",
      "execution_count": null,
      "metadata": {
        "id": "57_bsXh42csc"
      },
      "outputs": [],
      "source": []
    },
    {
      "cell_type": "code",
      "source": [
        "from PIL import Image\n",
        "\n",
        "# Specify the path to your sprite sheet image\n",
        "sprite_sheet_path = 'path_to_sprite_sheet.png'\n",
        "\n",
        "# Specify the dimensions of each frame in the sprite sheet\n",
        "frame_width = 250  # Width of each frame in pixels\n",
        "frame_height = 248  # Height of each frame in pixels\n",
        "\n",
        "# Specify the number of frames in the sprite sheet\n",
        "num_frames = 4\n",
        "\n",
        "# Specify the frame rate for the GIF (frames per second)\n",
        "frame_rate = 8\n",
        "\n",
        "# Open the sprite sheet image using Pillow\n",
        "sprite_sheet = Image.open('/content/H6.jpg')\n",
        "\n",
        "# Create a list to store individual frames\n",
        "frames = []\n",
        "\n",
        "# Extract each frame from the sprite sheet and append it to the frames list\n",
        "for i in range(num_frames):\n",
        "    left = i * frame_width\n",
        "    upper = 0\n",
        "    right = left + frame_width\n",
        "    lower = frame_height\n",
        "    frame = sprite_sheet.crop((left, upper, right, lower))\n",
        "    #frame = sprite_sheet.crop((left, frame_height, right, 2*lower))\n",
        "    frames.append(frame)\n",
        "\n",
        "#for i in range(num_frames):\n",
        "    #left = i * frame_width\n",
        "    #upper = 0\n",
        "    #right = left + frame_width\n",
        "    #lower = frame_height\n",
        "    #frame = sprite_sheet.crop((left, upper, right, lower))\n",
        "    #frame = sprite_sheet.crop((left, frame_height, right, 2*lower))\n",
        "    #frames.append(frame)\n",
        "\n",
        "# Save the frames as a GIF\n",
        "output_gif_path = 'output.gif'\n",
        "frames[0].save(\n",
        "    output_gif_path,\n",
        "    save_all=True,\n",
        "    append_images=frames[1:],\n",
        "    duration=1000 // frame_rate,  # Duration in milliseconds per frame\n",
        "    loop=0  # 0 means infinite loop\n",
        ")\n",
        "\n",
        "print(f\"GIF saved as {output_gif_path}\")\n"
      ],
      "metadata": {
        "colab": {
          "base_uri": "https://localhost:8080/"
        },
        "id": "l0lOgxA324Jm",
        "outputId": "0e51225d-3d6b-4c3f-c010-35db149588e9"
      },
      "execution_count": 41,
      "outputs": [
        {
          "output_type": "stream",
          "name": "stdout",
          "text": [
            "GIF saved as output.gif\n"
          ]
        }
      ]
    },
    {
      "cell_type": "code",
      "source": [
        "convert sprite.png -crop 300x289 +adjoin +repage -adjoin -loop 0 -delay 1 output.gif"
      ],
      "metadata": {
        "id": "_l-GzQtp9K0o"
      },
      "execution_count": null,
      "outputs": []
    }
  ]
}